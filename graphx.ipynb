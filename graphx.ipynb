{
 "cells": [
  {
   "cell_type": "code",
   "execution_count": 58,
   "metadata": {},
   "outputs": [
    {
     "name": "stdout",
     "output_type": "stream",
     "text": [
      "\u001b[1;31mSignature:\u001b[0m \u001b[0mnx\u001b[0m\u001b[1;33m.\u001b[0m\u001b[0mis_chordal\u001b[0m\u001b[1;33m(\u001b[0m\u001b[0mG\u001b[0m\u001b[1;33m)\u001b[0m\u001b[1;33m\u001b[0m\u001b[1;33m\u001b[0m\u001b[0m\n",
      "\u001b[1;31mSource:\u001b[0m   \n",
      "\u001b[1;33m@\u001b[0m\u001b[0mnot_implemented_for\u001b[0m\u001b[1;33m(\u001b[0m\u001b[1;34m\"directed\"\u001b[0m\u001b[1;33m)\u001b[0m\u001b[1;33m\n",
      "\u001b[0m\u001b[1;33m@\u001b[0m\u001b[0mnot_implemented_for\u001b[0m\u001b[1;33m(\u001b[0m\u001b[1;34m\"multigraph\"\u001b[0m\u001b[1;33m)\u001b[0m\u001b[1;33m\n",
      "\u001b[0m\u001b[1;32mdef\u001b[0m \u001b[0mis_chordal\u001b[0m\u001b[1;33m(\u001b[0m\u001b[0mG\u001b[0m\u001b[1;33m)\u001b[0m\u001b[1;33m:\u001b[0m\u001b[1;33m\n",
      "\u001b[0m    \u001b[1;34m\"\"\"Checks whether G is a chordal graph.\n",
      "\n",
      "    A graph is chordal if every cycle of length at least 4 has a chord\n",
      "    (an edge joining two nodes not adjacent in the cycle).\n",
      "\n",
      "    Parameters\n",
      "    ----------\n",
      "    G : graph\n",
      "      A NetworkX graph.\n",
      "\n",
      "    Returns\n",
      "    -------\n",
      "    chordal : bool\n",
      "      True if G is a chordal graph and False otherwise.\n",
      "\n",
      "    Raises\n",
      "    ------\n",
      "    NetworkXNotImplemented\n",
      "        The algorithm does not support DiGraph, MultiGraph and MultiDiGraph.\n",
      "\n",
      "    Examples\n",
      "    --------\n",
      "    >>> e = [\n",
      "    ...     (1, 2),\n",
      "    ...     (1, 3),\n",
      "    ...     (2, 3),\n",
      "    ...     (2, 4),\n",
      "    ...     (3, 4),\n",
      "    ...     (3, 5),\n",
      "    ...     (3, 6),\n",
      "    ...     (4, 5),\n",
      "    ...     (4, 6),\n",
      "    ...     (5, 6),\n",
      "    ... ]\n",
      "    >>> G = nx.Graph(e)\n",
      "    >>> nx.is_chordal(G)\n",
      "    True\n",
      "\n",
      "    Notes\n",
      "    -----\n",
      "    The routine tries to go through every node following maximum cardinality\n",
      "    search. It returns False when it finds that the separator for any node\n",
      "    is not a clique.  Based on the algorithms in [1]_.\n",
      "\n",
      "    References\n",
      "    ----------\n",
      "    .. [1] R. E. Tarjan and M. Yannakakis, Simple linear-time algorithms\n",
      "       to test chordality of graphs, test acyclicity of hypergraphs, and\n",
      "       selectively reduce acyclic hypergraphs, SIAM J. Comput., 13 (1984),\n",
      "       pp. 566–579.\n",
      "    \"\"\"\u001b[0m\u001b[1;33m\n",
      "\u001b[0m    \u001b[1;32mreturn\u001b[0m \u001b[0mlen\u001b[0m\u001b[1;33m(\u001b[0m\u001b[0m_find_chordality_breaker\u001b[0m\u001b[1;33m(\u001b[0m\u001b[0mG\u001b[0m\u001b[1;33m)\u001b[0m\u001b[1;33m)\u001b[0m \u001b[1;33m==\u001b[0m \u001b[1;36m0\u001b[0m\u001b[1;33m\u001b[0m\u001b[1;33m\u001b[0m\u001b[0m\n",
      "\u001b[1;31mFile:\u001b[0m      d:\\programdata\\anaconda\\lib\\site-packages\\networkx\\algorithms\\chordal.py\n",
      "\u001b[1;31mType:\u001b[0m      function\n"
     ]
    }
   ],
   "source": [
    "??nx.is_chordal"
   ]
  },
  {
   "cell_type": "code",
   "execution_count": 6,
   "metadata": {},
   "outputs": [],
   "source": [
    "import matplotlib.pyplot as plt\n",
    "def show_graph(G):\n",
    "    options = {\n",
    "        'node_color': 'black',\n",
    "        'node_size': 100,\n",
    "        'width': 3,\n",
    "    }\n",
    "    nx.draw(G,**options)\n",
    "    plt.show()  "
   ]
  },
  {
   "cell_type": "code",
   "execution_count": 95,
   "metadata": {},
   "outputs": [
    {
     "name": "stderr",
     "output_type": "stream",
     "text": [
      "C:\\Users\\26581\\AppData\\Local\\Temp\\ipykernel_24348\\2704615671.py:1: FutureWarning: adjacency_matrix will return a scipy.sparse array instead of a matrix in Networkx 3.0.\n",
      "  adj_M=nx.adjacency_matrix(G)\n",
      "C:\\Users\\26581\\AppData\\Local\\Temp\\ipykernel_24348\\2704615671.py:2: FutureWarning: incidence_matrix will return a scipy.sparse array instead of a matrix in Networkx 3.0.\n",
      "  inc_M=nx.incidence_matrix(G)\n"
     ]
    }
   ],
   "source": [
    "adj_M=nx.adjacency_matrix(G)\n",
    "inc_M=nx.incidence_matrix(G)"
   ]
  },
  {
   "cell_type": "code",
   "execution_count": 96,
   "metadata": {},
   "outputs": [
    {
     "data": {
      "text/plain": [
       "<matplotlib.lines.Line2D at 0x279a0bf7880>"
      ]
     },
     "execution_count": 96,
     "metadata": {},
     "output_type": "execute_result"
    },
    {
     "data": {
      "image/png": "[encoded data removed]",
      "text/plain": [
       "<Figure size 640x480 with 1 Axes>"
      ]
     },
     "metadata": {},
     "output_type": "display_data"
    }
   ],
   "source": [
    "plt.spy(adj_M)"
   ]
  },
  {
   "cell_type": "code",
   "execution_count": 97,
   "metadata": {},
   "outputs": [
    {
     "data": {
      "text/plain": [
       "<matplotlib.lines.Line2D at 0x279a0c51fd0>"
      ]
     },
     "execution_count": 97,
     "metadata": {},
     "output_type": "execute_result"
    },
    {
     "data": {
      "image/png": "[encoded data removed]",
      "text/plain": [
       "<Figure size 640x480 with 1 Axes>"
      ]
     },
     "metadata": {},
     "output_type": "display_data"
    }
   ],
   "source": [
    "plt.spy(inc_M)"
   ]
  },
  {
   "cell_type": "code",
   "execution_count": 98,
   "metadata": {},
   "outputs": [
    {
     "name": "stdout",
     "output_type": "stream",
     "text": [
      "3\n"
     ]
    }
   ],
   "source": [
    "adj_M[0,1]=3\n",
    "print(adj_M[0,1])"
   ]
  },
  {
   "cell_type": "code",
   "execution_count": 99,
   "metadata": {},
   "outputs": [
    {
     "data": {
      "text/plain": [
       "[0, 4, 1, 3, 2]"
      ]
     },
     "execution_count": 99,
     "metadata": {},
     "output_type": "execute_result"
    }
   ],
   "source": [
    "import networkx as nx\n",
    "import random\n",
    "from random import choice\n",
    "# G=nx.complete_graph(5)\n",
    "G=nx.path_graph(5)\n",
    "def least_index(main_set,sub_set):\n",
    "    for n in main_set:\n",
    "        if n in sub_set:\n",
    "            return n\n",
    "def LexBFS(G):\n",
    "    #fixed S.E.O\n",
    "    R=[]\n",
    "    #label queue\n",
    "    S=[[]]\n",
    "    #init state 0\n",
    "    S[0]=list(G.nodes())\n",
    "    while True:\n",
    "        #pick vertex v from right most\n",
    "        v=choice(S[-1])\n",
    "        S[-1].remove(v)\n",
    "        R.append(v)\n",
    "        #pick all neighbors\n",
    "        w=list(G.neighbors(v))\n",
    "        length=len(S)\n",
    "        for i in range(length-1,-1,-1):\n",
    "            #update label\n",
    "            inter=set(S[i]).intersection(set(w))\n",
    "            if list(inter):\n",
    "                #if intersect, delete old vertex and insert new set\n",
    "                S[i]=list(set(S[i]).difference(inter))\n",
    "                S.insert(i+1,list(inter))\n",
    "        #delete empty set\n",
    "        S=[s for s in S if s!=[]]\n",
    "        # print(S)\n",
    "        if not S:\n",
    "            break\n",
    "    #return reverse\n",
    "    return R[::-1]\n",
    "\n",
    "seq=LexBFS(G)\n",
    "seq\n"
   ]
  },
  {
   "cell_type": "code",
   "execution_count": 100,
   "metadata": {},
   "outputs": [
    {
     "data": {
      "text/plain": [
       "[(0, 1), (1, 2), (2, 3), (3, 4)]"
      ]
     },
     "execution_count": 100,
     "metadata": {},
     "output_type": "execute_result"
    }
   ],
   "source": [
    "# for i in range(5-1,-1,-1):\n",
    "#     print(i)\n",
    "list(G.edges)"
   ]
  },
  {
   "cell_type": "code",
   "execution_count": 101,
   "metadata": {},
   "outputs": [
    {
     "data": {
      "text/plain": [
       "True"
      ]
     },
     "execution_count": 101,
     "metadata": {},
     "output_type": "execute_result"
    }
   ],
   "source": [
    "def is_chordal_graph(G,seq):\n",
    "    # return True if G is chordal graph\n",
    "    n=len(seq)\n",
    "    A=dict.fromkeys(seq,[])\n",
    "    for i in range(0,n-1):\n",
    "        v=seq[i]\n",
    "        w=list(G.neighbors(v))\n",
    "        X=list(set(seq[i+1:]).intersection(set(w)))\n",
    "        if X:\n",
    "            u=least_index(seq,X)\n",
    "            #concatenate X — {u} to A[u]\n",
    "            X.remove(u)\n",
    "            A[u]=list(set(A[u]+X))\n",
    "        inter=list(set(A[v]).intersection(set(w)))\n",
    "        if A[v]!=inter:\n",
    "            print(v,A[v],w,inter)\n",
    "            return False\n",
    "    return True\n",
    "# seq=[i for i in range(9)]\n",
    "is_chordal_graph(G,seq)         "
   ]
  },
  {
   "cell_type": "code",
   "execution_count": 153,
   "metadata": {},
   "outputs": [],
   "source": [
    "def is_clique(G):\n",
    "    # G=nx.complete_graph(5)\n",
    "    adj_M=nx.adjacency_matrix(G)\n",
    "    adj_M_cp=adj_M.toarray()\n",
    "    # fill 1 in diagonal\n",
    "    num_nodes=len(G.nodes)\n",
    "    for i in range(num_nodes):\n",
    "        adj_M_cp[i,i]=1\n",
    "    # if no 0 inside return True\n",
    "    for i in range(num_nodes):\n",
    "        for i in range(num_nodes):\n",
    "            if adj_M_cp[i,i]==0:\n",
    "                return False\n",
    "    return True"
   ]
  },
  {
   "cell_type": "code",
   "execution_count": 202,
   "metadata": {},
   "outputs": [
    {
     "data": {
      "text/plain": [
       "True"
      ]
     },
     "execution_count": 202,
     "metadata": {},
     "output_type": "execute_result"
    }
   ],
   "source": [
    "# G=nx.complete_graph(20)\n",
    "# is_clique(G)\n",
    "G=nx.Graph()\n",
    "nx.add_cycle(G, [0, 1, 2, 3,4,5,6,7,8,9,10])\n",
    "is_hole(G)\n",
    "# len(nx.cycle_basis(G))"
   ]
  },
  {
   "cell_type": "code",
   "execution_count": 164,
   "metadata": {},
   "outputs": [],
   "source": [
    "def is_hole(G):\n",
    "    # return if G is a hole\n",
    "    list_cycle=nx.cycle_basis(G)\n",
    "    # contains only 1 cycle and with length at least 4\n",
    "    if len(list_cycle)==1 and len(list_cycle[0])>3:\n",
    "        return True\n",
    "    return False"
   ]
  },
  {
   "cell_type": "code",
   "execution_count": 206,
   "metadata": {},
   "outputs": [],
   "source": [
    "def simp_node(G):\n",
    "    # return the first simplicial node found in G\n",
    "    for node in G.nodes():\n",
    "        neighbors = set(G.neighbors(node))\n",
    "        # print(node)\n",
    "        # print(neighbors)\n",
    "        # print([(u,v) for u in neighbors for v in neighbors if u != node and v != node and u!=v])\n",
    "        if all(G.has_edge(u, v) for u in neighbors for v in neighbors if u != node and v != node and u!=v):\n",
    "            return True,node\n",
    "            # print(f\"Node {node} is simplicial.\")\n",
    "    return False,-1"
   ]
  },
  {
   "cell_type": "code",
   "execution_count": 207,
   "metadata": {},
   "outputs": [
    {
     "name": "stdout",
     "output_type": "stream",
     "text": [
      "0\n",
      "AA\n"
     ]
    }
   ],
   "source": [
    "G=nx.complete_graph(5)\n",
    "stat,node=simp_node(G)\n",
    "print(node)\n",
    "if stat:\n",
    "    print('AA')"
   ]
  },
  {
   "cell_type": "code",
   "execution_count": 186,
   "metadata": {},
   "outputs": [
    {
     "data": {
      "text/plain": [
       "True"
      ]
     },
     "execution_count": 186,
     "metadata": {},
     "output_type": "execute_result"
    }
   ],
   "source": [
    "G.has_edge(1,2)"
   ]
  },
  {
   "cell_type": "code",
   "execution_count": 167,
   "metadata": {},
   "outputs": [],
   "source": [
    "def is_us_graph(G):\n",
    "    # if G is universal signable graph return True\n",
    "    while(1):\n",
    "        if is_clique(G) or is_hole(G):\n",
    "            return True\n",
    "        # if simp_node(G):\n",
    "        #     G=rmv_simp_node(G)\n",
    "        #     continue\n",
    "        # if simp_hole(G):\n",
    "        #     #remove hole but keep u,v(connect vertex) in G\n",
    "        #     G=rmv_simp_hole(G)\n",
    "        #     continue\n",
    "        return False"
   ]
  },
  {
   "cell_type": "code",
   "execution_count": 168,
   "metadata": {},
   "outputs": [
    {
     "name": "stderr",
     "output_type": "stream",
     "text": [
      "C:\\Users\\26581\\AppData\\Local\\Temp\\ipykernel_24348\\3049280703.py:3: FutureWarning: adjacency_matrix will return a scipy.sparse array instead of a matrix in Networkx 3.0.\n",
      "  adj_M=nx.adjacency_matrix(G)\n"
     ]
    },
    {
     "data": {
      "text/plain": [
       "True"
      ]
     },
     "execution_count": 168,
     "metadata": {},
     "output_type": "execute_result"
    }
   ],
   "source": [
    "# G=nx.complete_graph(20)\n",
    "is_us_graph(G)"
   ]
  },
  {
   "cell_type": "code",
   "execution_count": 104,
   "metadata": {},
   "outputs": [
    {
     "data": {
      "text/plain": [
       "True"
      ]
     },
     "execution_count": 104,
     "metadata": {},
     "output_type": "execute_result"
    }
   ],
   "source": [
    "A=[1,2]\n",
    "B=[1,2,3,4,5]\n",
    "A==list(set(A).intersection(set(B)))"
   ]
  },
  {
   "cell_type": "code",
   "execution_count": 105,
   "metadata": {},
   "outputs": [],
   "source": [
    "\n",
    "A=G"
   ]
  },
  {
   "cell_type": "code",
   "execution_count": 106,
   "metadata": {},
   "outputs": [
    {
     "name": "stdout",
     "output_type": "stream",
     "text": [
      "[0, 1]\n",
      "[4, 3]\n",
      "[1, 2]\n",
      "[3, 2]\n",
      "2\n"
     ]
    }
   ],
   "source": [
    "def cliques(G,seq):\n",
    "    # generate all the maximum cliques and return the chromatic number\n",
    "    chromatic=1\n",
    "    S=dict.fromkeys(seq,0)\n",
    "    n=len(seq)\n",
    "    for i in range(0,n):\n",
    "        v=seq[i]\n",
    "        # forward neighbor\n",
    "        w=list(G.neighbors(v))\n",
    "        X=list(set(seq[i+1:]).intersection(set(w)))\n",
    "        n_x=len(X)\n",
    "        if not w:\n",
    "            print(w)\n",
    "        if not X:\n",
    "            break\n",
    "        #get smallest vertex in intersect\n",
    "        u=least_index(seq[i+1:],X)\n",
    "        S[u]=max(S[u],n_x-1)\n",
    "        if S[v]<n_x:\n",
    "            print([v]+X)\n",
    "            #max k and |X|+1\n",
    "            chromatic=max(chromatic,n_x+1)\n",
    "    print(chromatic)\n",
    "        \n",
    "cliques(G,seq)\n"
   ]
  },
  {
   "cell_type": "code",
   "execution_count": 107,
   "metadata": {},
   "outputs": [],
   "source": [
    "def generate_chordal(n):\n",
    "    '''\n",
    "    generate chordal graph with n vertices \n",
    "    by construct simplicial elimination order randomly \n",
    "    '''\n",
    "    record_G=[]\n",
    "    record_H=[]\n",
    "    G=nx.Graph()\n",
    "    seq=[i for i in range(n)]\n",
    "    G.add_nodes_from(seq)\n",
    "    for i in seq:\n",
    "        #number of forward vertex\n",
    "        f_n=n-i-1\n",
    "        #connect k forward vertex\n",
    "        k=random.randint(0,f_n)\n",
    "        #list of forward vertex\n",
    "        f_w=random.sample(seq[i+1:],k)\n",
    "        #neighbor vertex\n",
    "        w=list(G.neighbors(i))\n",
    "        #existing forward vertex\n",
    "        exist_f=[j for j in w if j >i]\n",
    "        #current vertex + existing forward vertex + random picked vertex\n",
    "        f_w_c=[i]+f_w+exist_f\n",
    "        f_w_c=list(set(f_w_c))\n",
    "        #add edges\n",
    "        H=nx.complete_graph(f_w_c)\n",
    "        G.add_edges_from(H.edges)\n",
    "    return G\n",
    "for i in range(1):\n",
    "    G=generate_chordal(9)\n",
    "    if not nx.is_chordal(G):\n",
    "        print(nx.is_chordal(G))\n",
    "        # P=G\n",
    "        # break\n"
   ]
  },
  {
   "cell_type": "code",
   "execution_count": 108,
   "metadata": {},
   "outputs": [
    {
     "data": {
      "text/plain": [
       "True"
      ]
     },
     "execution_count": 108,
     "metadata": {},
     "output_type": "execute_result"
    }
   ],
   "source": [
    "nx.is_chordal(A)"
   ]
  },
  {
   "cell_type": "code",
   "execution_count": 109,
   "metadata": {},
   "outputs": [
    {
     "ename": "NameError",
     "evalue": "name 'P' is not defined",
     "output_type": "error",
     "traceback": [
      "\u001b[1;31m---------------------------------------------------------------------------\u001b[0m",
      "\u001b[1;31mNameError\u001b[0m                                 Traceback (most recent call last)",
      "\u001b[1;32m~\\AppData\\Local\\Temp\\ipykernel_24348\\3995250570.py\u001b[0m in \u001b[0;36m<module>\u001b[1;34m\u001b[0m\n\u001b[1;32m----> 1\u001b[1;33m \u001b[0mprint\u001b[0m\u001b[1;33m(\u001b[0m\u001b[0mlist\u001b[0m\u001b[1;33m(\u001b[0m\u001b[0mP\u001b[0m\u001b[1;33m.\u001b[0m\u001b[0mnodes\u001b[0m\u001b[1;33m)\u001b[0m\u001b[1;33m)\u001b[0m\u001b[1;33m\u001b[0m\u001b[1;33m\u001b[0m\u001b[0m\n\u001b[0m\u001b[0;32m      2\u001b[0m \u001b[0mprint\u001b[0m\u001b[1;33m(\u001b[0m\u001b[0mlist\u001b[0m\u001b[1;33m(\u001b[0m\u001b[0mP\u001b[0m\u001b[1;33m.\u001b[0m\u001b[0medges\u001b[0m\u001b[1;33m)\u001b[0m\u001b[1;33m)\u001b[0m\u001b[1;33m\u001b[0m\u001b[1;33m\u001b[0m\u001b[0m\n",
      "\u001b[1;31mNameError\u001b[0m: name 'P' is not defined"
     ]
    }
   ],
   "source": [
    "\n",
    "print(list(P.nodes))\n",
    "print(list(P.edges))"
   ]
  },
  {
   "cell_type": "code",
   "execution_count": null,
   "metadata": {},
   "outputs": [],
   "source": [
    "G=nx.Graph()\n",
    "seq=[i for i in range(7)]\n",
    "G.add_nodes_from(seq)"
   ]
  },
  {
   "cell_type": "code",
   "execution_count": null,
   "metadata": {},
   "outputs": [
    {
     "data": {
      "text/plain": [
       "[3, 4, 2, 5, 7]"
      ]
     },
     "execution_count": 4,
     "metadata": {},
     "output_type": "execute_result"
    }
   ],
   "source": [
    "f_w=[3,4,2,5,7,2,2]\n",
    "# A=[i for i in f_w if i >3]\n",
    "# A\n",
    "# f_w_c=f_w+[1]\n",
    "H=nx.complete_graph(f_w)\n",
    "list(H.nodes)\n",
    "# G.add_edges_from(H.edges)\n"
   ]
  },
  {
   "cell_type": "code",
   "execution_count": null,
   "metadata": {},
   "outputs": [
    {
     "name": "stdout",
     "output_type": "stream",
     "text": [
      "[(0, 1), (0, 3), (1, 3), (1, 4), (1, 2), (2, 3), (2, 4), (3, 4)]\n"
     ]
    }
   ],
   "source": [
    "print(list(G.edges))"
   ]
  },
  {
   "cell_type": "code",
   "execution_count": null,
   "metadata": {},
   "outputs": [],
   "source": [
    "G=nx.Graph()\n",
    "G.add_nodes_from([i for i in range(8)])\n",
    "G.add_edges_from(H.edges)\n"
   ]
  },
  {
   "cell_type": "code",
   "execution_count": null,
   "metadata": {},
   "outputs": [
    {
     "data": {
      "image/png": "[encoded data removed]",
      "text/plain": [
       "<Figure size 640x480 with 1 Axes>"
      ]
     },
     "metadata": {},
     "output_type": "display_data"
    }
   ],
   "source": [
    "show_graph(G)"
   ]
  },
  {
   "cell_type": "code",
   "execution_count": null,
   "metadata": {},
   "outputs": [],
   "source": []
  }
 ],
 "metadata": {
  "kernelspec": {
   "display_name": "Python 3",
   "language": "python",
   "name": "python3"
  },
  "language_info": {
   "codemirror_mode": {
    "name": "ipython",
    "version": 3
   },
   "file_extension": ".py",
   "mimetype": "text/x-python",
   "name": "python",
   "nbconvert_exporter": "python",
   "pygments_lexer": "ipython3",
   "version": "3.9.13"
  },
  "orig_nbformat": 4
 },
 "nbformat": 4,
 "nbformat_minor": 2
}
